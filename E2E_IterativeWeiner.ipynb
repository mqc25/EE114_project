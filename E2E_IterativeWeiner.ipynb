{
 "cells": [
  {
   "cell_type": "markdown",
   "metadata": {},
   "source": [
    "# Load data in"
   ]
  },
  {
   "cell_type": "code",
   "execution_count": null,
   "metadata": {},
   "outputs": [],
   "source": [
    "import os\n",
    "from pathlib import Path\n",
    "\n",
    "current_dir = Path('./')\n",
    "data_dir = current_dir / 'speech_commands_v0.01'\n",
    "train_file_path = data_dir / \"train_digit_list.txt\"\n",
    "test_file_path = data_dir / \"testing_digit_list.txt\"\n",
    "\n",
    "train_file = open(train_file_path, \"r\")\n",
    "training_list = [data_dir / x for x in train_file.read().splitlines()]\n",
    "\n",
    "test_file = open(test_file_path, \"r\")\n",
    "testing_list = [data_dir / x for x in test_file.read().splitlines()]"
   ]
  },
  {
   "cell_type": "code",
   "execution_count": null,
   "metadata": {},
   "outputs": [],
   "source": [
    "import os\n",
    "from pathlib import Path\n",
    "import numpy as np\n",
    "\n",
    "with open('X_train_original.npy', 'rb') as f:\n",
    "    X_train_org = np.load(f)\n",
    "\n",
    "with open('X_train_reverb_random.npy', 'rb') as f:\n",
    "    X_train_reverb = np.load(f)\n",
    "    \n",
    "with open('X_test_reverb_random.npy', 'rb') as f:\n",
    "    X_test_reverb = np.load(f)"
   ]
  },
  {
   "cell_type": "code",
   "execution_count": null,
   "metadata": {},
   "outputs": [],
   "source": [
    "import matplotlib.pyplot as plt\n",
    "import sidekit.frontend.features as fe\n",
    "import numpy as np\n",
    "import scipy.io.wavfile as wav\n",
    "\n",
    "sample_num = 25\n",
    "wav.write('./audio/iw_original.wav',  16000, X_train_org[sample_num].astype(np.int16))\n",
    "wav.write('./audio/iw_reverb.wav', 16000, X_train_reverb[sample_num].astype(np.int16))"
   ]
  },
  {
   "cell_type": "markdown",
   "metadata": {},
   "source": [
    "# Do 1 data filter"
   ]
  },
  {
   "cell_type": "code",
   "execution_count": null,
   "metadata": {},
   "outputs": [],
   "source": [
    "from pyroomacoustics.denoise.iterative_wiener import apply_iterative_wiener\n",
    "import soundfile as sf\n",
    "\n",
    "noisy = sf.read('./audio/iw_reverb.wav')\n",
    "\n",
    "denoised_signal = apply_iterative_wiener(noisy[0], frame_len=512,\n",
    "                                         lpc_order=20, iterations=2,\n",
    "                                         alpha=0.8, thresh=0.01)\n",
    "sf.write('./audio/iw_fix.wav', denoised_signal, 16000)"
   ]
  },
  {
   "cell_type": "code",
   "execution_count": null,
   "metadata": {},
   "outputs": [],
   "source": [
    "import librosa\n",
    "\n",
    "def plot_stft(prefix):\n",
    "    original_file = './audio/{}_original.wav'.format(prefix)\n",
    "    reverb_file = './audio/{}_reverb.wav'.format(prefix)\n",
    "    denoise_file = './audio/{}_fix.wav'.format(prefix)\n",
    "    \n",
    "    o = librosa.load(original_file, 16000)[0]\n",
    "    r = librosa.load(reverb_file, 16000)[0]\n",
    "    d = librosa.load(denoise_file, 16000)[0]\n",
    "        \n",
    "    O = librosa.amplitude_to_db(librosa.stft(o), ref=np.max)\n",
    "    R = librosa.amplitude_to_db(librosa.stft(r), ref=np.max)\n",
    "    D = librosa.amplitude_to_db(librosa.stft(d), ref=np.max)\n",
    "    \n",
    "    return O, R, D"
   ]
  },
  {
   "cell_type": "code",
   "execution_count": null,
   "metadata": {},
   "outputs": [],
   "source": [
    "o, r, d = plot_stft('iw')"
   ]
  },
  {
   "cell_type": "code",
   "execution_count": null,
   "metadata": {},
   "outputs": [],
   "source": [
    "import librosa.display\n",
    "\n",
    "plt.figure(figsize=(6, 4))\n",
    "librosa.display.specshow(o, y_axis='log')\n",
    "plt.colorbar(format='%+2.0f dB')\n",
    "plt.title('Original')\n",
    "plt.savefig('img/iw_original.png')\n",
    "plt.show()\n"
   ]
  },
  {
   "cell_type": "code",
   "execution_count": null,
   "metadata": {},
   "outputs": [],
   "source": [
    "import librosa.display\n",
    "\n",
    "plt.figure(figsize=(6, 4))\n",
    "librosa.display.specshow(r, y_axis='log')\n",
    "plt.colorbar(format='%+2.0f dB')\n",
    "plt.title('Reverb')\n",
    "plt.savefig('img/iw_reverb.png')\n",
    "plt.show()"
   ]
  },
  {
   "cell_type": "code",
   "execution_count": null,
   "metadata": {},
   "outputs": [],
   "source": [
    "import librosa.display\n",
    "\n",
    "plt.figure(figsize=(6, 4))\n",
    "librosa.display.specshow(d, y_axis='log')\n",
    "plt.colorbar(format='%+2.0f dB')\n",
    "plt.title('Iterative Weiner Filter')\n",
    "plt.savefig('img/iw_fix.png')\n",
    "plt.show()"
   ]
  },
  {
   "cell_type": "markdown",
   "metadata": {},
   "source": [
    "# Do all data filter"
   ]
  },
  {
   "cell_type": "code",
   "execution_count": null,
   "metadata": {},
   "outputs": [],
   "source": [
    "from tqdm.notebook import tnrange\n",
    "from pyroomacoustics.denoise.iterative_wiener import apply_iterative_wiener\n",
    "\n",
    "train_data = []\n",
    "for i in tnrange(len(X_train_reverb)):\n",
    "    denoised_signal = apply_iterative_wiener(X_train_reverb[i].flatten(), frame_len=512, lpc_order=20, iterations=2, alpha=0.8, thresh=0.01)\n",
    "    train_data.append(denoised_signal)\n",
    "    \n",
    "train_data = np.asarray(train_data)"
   ]
  },
  {
   "cell_type": "code",
   "execution_count": null,
   "metadata": {},
   "outputs": [],
   "source": [
    "save_dir = Path('./E2E_data')\n",
    "np.save(save_dir / \"Iwt_train_reverb.npy\", train_data)"
   ]
  },
  {
   "cell_type": "code",
   "execution_count": null,
   "metadata": {},
   "outputs": [],
   "source": [
    "from tqdm.notebook import tnrange\n",
    "from pyroomacoustics.denoise.iterative_wiener import apply_iterative_wiener\n",
    "\n",
    "test_data = []\n",
    "for i in tnrange(len(X_test_reverb)):\n",
    "    denoised_signal = apply_iterative_wiener(X_test_reverb[i].flatten(), frame_len=512, lpc_order=20, iterations=2, alpha=0.8, thresh=0.01)\n",
    "    test_data.append(denoised_signal)\n",
    "    \n",
    "test_data = np.asarray(test_data)"
   ]
  },
  {
   "cell_type": "code",
   "execution_count": null,
   "metadata": {},
   "outputs": [],
   "source": [
    "save_dir = Path('./E2E_data')\n",
    "np.save(save_dir / \"Iwt_test_reverb.npy\", test_data)"
   ]
  }
 ],
 "metadata": {
  "kernelspec": {
   "display_name": "ml",
   "language": "python",
   "name": "ml"
  },
  "language_info": {
   "codemirror_mode": {
    "name": "ipython",
    "version": 3
   },
   "file_extension": ".py",
   "mimetype": "text/x-python",
   "name": "python",
   "nbconvert_exporter": "python",
   "pygments_lexer": "ipython3",
   "version": "3.7.9"
  }
 },
 "nbformat": 4,
 "nbformat_minor": 4
}
