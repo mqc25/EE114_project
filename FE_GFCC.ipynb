{
 "cells": [
  {
   "cell_type": "markdown",
   "metadata": {},
   "source": [
    "# Load data in"
   ]
  },
  {
   "cell_type": "code",
   "execution_count": null,
   "metadata": {},
   "outputs": [],
   "source": [
    "import os\n",
    "from pathlib import Path\n",
    "\n",
    "current_dir = Path('./')\n",
    "data_dir = current_dir / 'speech_commands_v0.01'\n",
    "train_file_path = data_dir / \"train_digit_list.txt\"\n",
    "test_file_path = data_dir / \"testing_digit_list.txt\"\n",
    "\n",
    "train_file = open(train_file_path, \"r\")\n",
    "training_list = [data_dir / x for x in train_file.read().splitlines()]\n",
    "\n",
    "test_file = open(test_file_path, \"r\")\n",
    "testing_list = [data_dir / x for x in test_file.read().splitlines()]"
   ]
  },
  {
   "cell_type": "code",
   "execution_count": null,
   "metadata": {},
   "outputs": [],
   "source": [
    "import os\n",
    "from pathlib import Path\n",
    "import numpy as np\n",
    "\n",
    "with open('X_train_original.npy', 'rb') as f:\n",
    "    X_train_org = np.load(f)\n",
    "\n",
    "with open('X_train_reverb_random.npy', 'rb') as f:\n",
    "    X_train_reverb = np.load(f)\n",
    "    \n",
    "with open('X_test_reverb_random.npy', 'rb') as f:\n",
    "    X_test_reverb = np.load(f)"
   ]
  },
  {
   "cell_type": "markdown",
   "metadata": {},
   "source": [
    "# GFCC algorithm on 1 data"
   ]
  },
  {
   "cell_type": "code",
   "execution_count": null,
   "metadata": {},
   "outputs": [],
   "source": [
    "import librosa\n",
    "import matplotlib.pyplot as plt\n",
    "import numpy as np\n",
    "from gammatone.plot import gtgram_plot\n",
    "import gammatone\n",
    "\n",
    "def emphasize(signal, plot=True):\n",
    "    pre_emphasis = 0.97\n",
    "    emphasized_signal = np.append(signal[0], signal[1:] - pre_emphasis * signal[:-1])\n",
    "    if plot:\n",
    "        x = np.arange(0, 1., 6.25e-5)\n",
    "        plt.plot(x, signal, label='original')\n",
    "        plt.plot(x, emphasized_signal, label='emphasized')\n",
    "        plt.legend()\n",
    "        plt.title('Emphasized signal')\n",
    "        plt.savefig('img/e_signal.png')\n",
    "        plt.show()\n",
    "\n",
    "\n",
    "    return emphasized_signal\n",
    "\n",
    "def extract_gfcc_feature(signal, plot=True):\n",
    "    e_signal = emphasize(signal, plot)\n",
    "    samplerate = 16000\n",
    "\n",
    "    # Default gammatone-based spectrogram parameters\n",
    "    twin = 0.08\n",
    "    thop = twin / 2\n",
    "    channels = 1024\n",
    "    fmin = 20\n",
    "    \n",
    "    gtg = gammatone.gtgram.gtgram(signal, samplerate, twin, thop, channels, fmin)\n",
    "    Z = np.flipud(20 * np.log10(gtg))\n",
    "\n",
    "    if plot:\n",
    "        # Set up the plot\n",
    "        fig = plt.figure()\n",
    "        axes = fig.add_axes([0.1, 0.1, 0.8, 0.8])\n",
    "\n",
    "        gtgram_plot(\n",
    "            gammatone.gtgram.gtgram,\n",
    "            axes,\n",
    "            e_signal,\n",
    "            samplerate,\n",
    "            twin, thop, channels, fmin)\n",
    "\n",
    "        axes.set_xlabel(\"Time (s)\")\n",
    "        axes.set_ylabel(\"Frequency\")\n",
    "        plt.savefig('img/gfcc.png')\n",
    "        plt.show()\n",
    "    \n",
    "    \n",
    "    return Z\n",
    "    "
   ]
  },
  {
   "cell_type": "code",
   "execution_count": null,
   "metadata": {},
   "outputs": [],
   "source": [
    "data = X_train_reverb[25].flatten()\n",
    "z = extract_gfcc_feature(data)"
   ]
  },
  {
   "cell_type": "code",
   "execution_count": null,
   "metadata": {},
   "outputs": [],
   "source": [
    "print(z[0])"
   ]
  },
  {
   "cell_type": "code",
   "execution_count": null,
   "metadata": {},
   "outputs": [],
   "source": [
    "data = X_train_org[25].flatten()\n",
    "extract_gfcc_feature(data)"
   ]
  },
  {
   "cell_type": "markdown",
   "metadata": {},
   "source": [
    "# Do GFCC on all data"
   ]
  },
  {
   "cell_type": "code",
   "execution_count": null,
   "metadata": {},
   "outputs": [],
   "source": [
    "from tqdm.notebook import tnrange\n",
    "\n",
    "train_data = []\n",
    "for i in tnrange(len(X_train_reverb)):\n",
    "    x = extract_gfcc_feature(X_train_reverb[i].flatten(), plot=False).T\n",
    "    train_data.append(x)\n",
    "    \n",
    "train_data = np.asarray(train_data)"
   ]
  },
  {
   "cell_type": "code",
   "execution_count": null,
   "metadata": {},
   "outputs": [],
   "source": [
    "save_dir = Path('./FE_data')\n",
    "np.save(save_dir / \"GFCC_train_reverb.npy\", train_data)"
   ]
  },
  {
   "cell_type": "code",
   "execution_count": null,
   "metadata": {},
   "outputs": [],
   "source": [
    "from tqdm.notebook import tnrange\n",
    "\n",
    "test_data = []\n",
    "for i in tnrange(len(X_test_reverb)):\n",
    "    x = extract_gfcc_feature(X_test_reverb[i].flatten(), plot=False).T\n",
    "    test_data.append(x)\n",
    "    \n",
    "test_data = np.asarray(test_data)"
   ]
  },
  {
   "cell_type": "code",
   "execution_count": null,
   "metadata": {},
   "outputs": [],
   "source": [
    "save_dir = Path('./FE_data')\n",
    "np.save(save_dir / \"GFCC_test_reverb.npy\", test_data)"
   ]
  },
  {
   "cell_type": "code",
   "execution_count": null,
   "metadata": {},
   "outputs": [],
   "source": []
  },
  {
   "cell_type": "code",
   "execution_count": null,
   "metadata": {},
   "outputs": [],
   "source": []
  }
 ],
 "metadata": {
  "kernelspec": {
   "display_name": "ml",
   "language": "python",
   "name": "ml"
  },
  "language_info": {
   "codemirror_mode": {
    "name": "ipython",
    "version": 3
   },
   "file_extension": ".py",
   "mimetype": "text/x-python",
   "name": "python",
   "nbconvert_exporter": "python",
   "pygments_lexer": "ipython3",
   "version": "3.7.9"
  }
 },
 "nbformat": 4,
 "nbformat_minor": 4
}
