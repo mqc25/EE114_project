{
 "cells": [
  {
   "cell_type": "code",
   "execution_count": null,
   "metadata": {},
   "outputs": [],
   "source": [
    "import os\n",
    "from pathlib import Path\n",
    "\n",
    "current_dir = Path('./')\n",
    "data_dir = current_dir / 'speech_commands_v0.01'\n",
    "train_file_path = data_dir / \"train_digit_list.txt\"\n",
    "test_file_path = data_dir / \"testing_digit_list.txt\"\n",
    "\n",
    "train_file = open(train_file_path, \"r\")\n",
    "training_list = [data_dir / x for x in train_file.read().splitlines()]\n",
    "\n",
    "test_file = open(test_file_path, \"r\")\n",
    "testing_list = [data_dir / x for x in test_file.read().splitlines()]"
   ]
  },
  {
   "cell_type": "code",
   "execution_count": null,
   "metadata": {},
   "outputs": [],
   "source": [
    "import os\n",
    "from pathlib import Path\n",
    "import numpy as np\n",
    "\n",
    "with open('X_train_original.npy', 'rb') as f:\n",
    "    X_train_org = np.load(f)\n",
    "\n",
    "with open('X_train_reverb_random.npy', 'rb') as f:\n",
    "    X_train_reverb = np.load(f)\n",
    "    \n",
    "with open('X_test_reverb_random.npy', 'rb') as f:\n",
    "    X_test_reverb = np.load(f)"
   ]
  },
  {
   "cell_type": "code",
   "execution_count": null,
   "metadata": {},
   "outputs": [],
   "source": [
    "import scipy.io.wavfile as wav\n",
    "\n",
    "sample_num = 25\n",
    "wav.write('./audio/tas_original.wav',  16000, X_train_org[sample_num].astype(np.int16))\n",
    "wav.write('./audio/tas_reverb.wav', 16000, X_train_reverb[sample_num].astype(np.int16))"
   ]
  },
  {
   "cell_type": "code",
   "execution_count": null,
   "metadata": {},
   "outputs": [],
   "source": [
    "!asteroid-infer \"mhu-coder/ConvTasNet_Libri1Mix_enhsingle\" --files \"./Audio/tas_reverb.wav\""
   ]
  },
  {
   "cell_type": "code",
   "execution_count": null,
   "metadata": {},
   "outputs": [],
   "source": [
    "import librosa\n",
    "\n",
    "def plot_stft(prefix):\n",
    "    original_file = './audio/{}_original.wav'.format(prefix)\n",
    "    reverb_file = './audio/{}_reverb.wav'.format(prefix)\n",
    "    denoise_file = './audio/{}_reverb_est1.wav'.format(prefix)\n",
    "    \n",
    "    o = librosa.load(original_file, 16000)[0]\n",
    "    r = librosa.load(reverb_file, 16000)[0]\n",
    "    d = librosa.load(denoise_file, 16000)[0]\n",
    "    \n",
    "    print(np.min(r), np.max(r))\n",
    "        \n",
    "    O = librosa.amplitude_to_db(librosa.stft(o), ref=np.max)\n",
    "    R = librosa.amplitude_to_db(librosa.stft(r), ref=np.max)\n",
    "    D = librosa.amplitude_to_db(librosa.stft(d), ref=np.max)\n",
    "    \n",
    "    return O, R, D"
   ]
  },
  {
   "cell_type": "code",
   "execution_count": null,
   "metadata": {},
   "outputs": [],
   "source": [
    "o, r, d = plot_stft('tas')"
   ]
  },
  {
   "cell_type": "code",
   "execution_count": null,
   "metadata": {},
   "outputs": [],
   "source": [
    "import librosa.display\n",
    "import matplotlib.pyplot as plt\n",
    "\n",
    "plt.figure(figsize=(6, 4))\n",
    "librosa.display.specshow(d, y_axis='log')\n",
    "plt.colorbar(format='%+2.0f dB')\n",
    "plt.title('ConvNetTas')\n",
    "plt.savefig('img/tas_fix.png')\n",
    "plt.show()"
   ]
  },
  {
   "cell_type": "markdown",
   "metadata": {},
   "source": [
    "# Do filter on all signal"
   ]
  },
  {
   "cell_type": "code",
   "execution_count": null,
   "metadata": {},
   "outputs": [],
   "source": [
    "from tqdm.notebook import tnrange\n",
    "import os\n",
    "\n",
    "train_data = []\n",
    "for i in tnrange(len(X_train_reverb)):\n",
    "    wav.write('./audio/train.wav',  16000, X_train_reverb[i].astype(np.int16))\n",
    "    !eval {\"asteroid-infer 'mhu-coder/ConvTasNet_Libri1Mix_enhsingle' --files './Audio/train.wav'\"}\n",
    "    data = librosa.load('./Audio/train_est1.wav', 16000)[0]\n",
    "    os.remove('./Audio/train_est1.wav')\n",
    "    train_data.append(data)\n",
    "    \n",
    "train_data = np.asarray(train_data)"
   ]
  },
  {
   "cell_type": "code",
   "execution_count": null,
   "metadata": {},
   "outputs": [],
   "source": [
    "save_dir = Path('./E2E_data')\n",
    "np.save(save_dir / \"ConvTasnet_train_reverb.npy\", train_data)"
   ]
  },
  {
   "cell_type": "code",
   "execution_count": null,
   "metadata": {},
   "outputs": [],
   "source": [
    "from tqdm.notebook import tnrange\n",
    "import os\n",
    "\n",
    "test_data = []\n",
    "for i in tnrange(len(X_train_reverb)):\n",
    "    wav.write('./audio/test.wav',  16000, X_test_reverb[i].astype(np.int16))\n",
    "    !eval {\"asteroid-infer 'mhu-coder/ConvTasNet_Libri1Mix_enhsingle' --files './Audio/test.wav'\"}\n",
    "    data = librosa.load('./Audio/test_est1.wav', 16000)[0]\n",
    "    os.remove('./Audio/test_est1.wav')\n",
    "    test_data.append(data)\n",
    "    \n",
    "test_data = np.asarray(test_data)"
   ]
  },
  {
   "cell_type": "code",
   "execution_count": null,
   "metadata": {},
   "outputs": [],
   "source": [
    "save_dir = Path('./E2E_data')\n",
    "np.save(save_dir / \"ConvTasnet_test_reverb.npy\", test_data)"
   ]
  }
 ],
 "metadata": {
  "kernelspec": {
   "display_name": "ml",
   "language": "python",
   "name": "ml"
  },
  "language_info": {
   "codemirror_mode": {
    "name": "ipython",
    "version": 3
   },
   "file_extension": ".py",
   "mimetype": "text/x-python",
   "name": "python",
   "nbconvert_exporter": "python",
   "pygments_lexer": "ipython3",
   "version": "3.7.9"
  }
 },
 "nbformat": 4,
 "nbformat_minor": 4
}
