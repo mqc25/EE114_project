{
 "cells": [
  {
   "cell_type": "markdown",
   "metadata": {},
   "source": [
    "# Load data in"
   ]
  },
  {
   "cell_type": "code",
   "execution_count": null,
   "metadata": {},
   "outputs": [],
   "source": [
    "import os\n",
    "from pathlib import Path\n",
    "\n",
    "current_dir = Path('./')\n",
    "data_dir = current_dir / 'speech_commands_v0.01'\n",
    "train_file_path = data_dir / \"train_digit_list.txt\"\n",
    "test_file_path = data_dir / \"testing_digit_list.txt\"\n",
    "\n",
    "train_file = open(train_file_path, \"r\")\n",
    "training_list = [data_dir / x for x in train_file.read().splitlines()]\n",
    "\n",
    "test_file = open(test_file_path, \"r\")\n",
    "testing_list = [data_dir / x for x in test_file.read().splitlines()]"
   ]
  },
  {
   "cell_type": "code",
   "execution_count": null,
   "metadata": {},
   "outputs": [],
   "source": [
    "import os\n",
    "from pathlib import Path\n",
    "import numpy as np\n",
    "\n",
    "with open('X_train_original.npy', 'rb') as f:\n",
    "    X_train_org = np.load(f)\n",
    "\n",
    "with open('X_train_reverb_random.npy', 'rb') as f:\n",
    "    X_train_reverb = np.load(f)\n",
    "    \n",
    "with open('X_test_reverb_random.npy', 'rb') as f:\n",
    "    X_test_reverb = np.load(f)"
   ]
  },
  {
   "cell_type": "markdown",
   "metadata": {},
   "source": [
    "# Extract STFT for one signal"
   ]
  },
  {
   "cell_type": "code",
   "execution_count": null,
   "metadata": {},
   "outputs": [],
   "source": [
    "from scipy.fft import dct\n",
    "import matplotlib.pyplot as plt\n",
    "\n",
    "def emphaize(signal, plot=True):\n",
    "    pre_emphasis = 0.97\n",
    "    emphasized_signal = np.append(signal[0], signal[1:] - pre_emphasis * signal[:-1])\n",
    "    if plot:\n",
    "        x = np.arange(0, 1., 6.25e-5)\n",
    "        plt.plot(x, signal, label='original')\n",
    "        plt.plot(x, emphasized_signal, label='emphasized')\n",
    "        plt.legend()\n",
    "        plt.title('Emphasized signal')\n",
    "        plt.savefig('img/e_signal.png')\n",
    "        plt.show()\n",
    "\n",
    "\n",
    "    return emphasized_signal\n",
    "\n",
    "def framing(emphasized_signal, size, stride, sample_rate=16000):\n",
    "    #Framing\n",
    "    frame_length, frame_step = size * sample_rate, stride * sample_rate \n",
    "    signal_length = len(emphasized_signal)\n",
    "    frame_length = int(round(frame_length))\n",
    "    frame_step = int(round(frame_step))\n",
    "    num_frames = int(np.ceil(float(np.abs(signal_length - frame_length)) / frame_step)) \n",
    "\n",
    "    pad_signal_length = num_frames * frame_step + frame_length\n",
    "    z = np.zeros((pad_signal_length - signal_length))\n",
    "    pad_signal = np.append(emphasized_signal, z)\n",
    "\n",
    "    indices = np.tile(np.arange(0, frame_length), (num_frames, 1)) + np.tile(np.arange(0, num_frames * frame_step, frame_step), (frame_length, 1)).T\n",
    "    frames = pad_signal[indices.astype(np.int32, copy=False)]\n",
    "    \n",
    "    #Windowing\n",
    "    frames *= np.hamming(frame_length)\n",
    "    return frames\n",
    "\n",
    "def ftps(frames, NFFT = 512, plot=True):\n",
    "    mag_frames = np.absolute(np.fft.rfft(frames, NFFT))  # Magnitude of the FFT\n",
    "    pow_frames = ((1.0 / NFFT) * ((mag_frames) ** 2))  # Power Spectrum\n",
    "    \n",
    "    if plot:\n",
    "        print(pow_frames.shape, mag_frames.shape)\n",
    "        plt.imshow((20 * np.log10(mag_frames)).T, origin='lower')\n",
    "        plt.savefig('img/mag.png')\n",
    "        plt.show()\n",
    "        plt.imshow((20 * np.log10(pow_frames)).T, origin='lower')\n",
    "        plt.savefig('img/pow.png')\n",
    "        plt.show()\n",
    "    \n",
    "    return mag_frames, pow_frames\n",
    "\n",
    "def extract_power_mag_spectrum(signal, plot=True):\n",
    "    e_signal = emphaize(signal, plot)\n",
    "    frames = framing(e_signal, 0.025, 0.01)\n",
    "    pow_signal, mag_signal = ftps(frames, plot=plot)\n",
    "    return pow_signal, mag_signal"
   ]
  },
  {
   "cell_type": "code",
   "execution_count": null,
   "metadata": {},
   "outputs": [],
   "source": [
    "p_signal, m_signal = extract_power_mag_spectrum(X_train_org[25])"
   ]
  },
  {
   "cell_type": "code",
   "execution_count": null,
   "metadata": {},
   "outputs": [],
   "source": [
    "p_signal, m_signal = extract_power_mag_spectrum(X_train_reverb[25])"
   ]
  },
  {
   "cell_type": "markdown",
   "metadata": {},
   "source": [
    "# Extract STFT for all signal"
   ]
  },
  {
   "cell_type": "code",
   "execution_count": null,
   "metadata": {},
   "outputs": [],
   "source": [
    "from tqdm.notebook import tnrange\n",
    "\n",
    "train_data = []\n",
    "for i in tnrange(len(X_train_reverb)):\n",
    "    x = extract_power_mag_spectrum(X_train_reverb[i], plot=False)[0].T\n",
    "    train_data.append(x)\n",
    "    \n",
    "train_data = np.asarray(train_data)"
   ]
  },
  {
   "cell_type": "code",
   "execution_count": null,
   "metadata": {},
   "outputs": [],
   "source": [
    "save_dir = Path('./FE_data')\n",
    "np.save(save_dir / \"STFT_train_reverb.npy\", train_data)"
   ]
  },
  {
   "cell_type": "code",
   "execution_count": null,
   "metadata": {},
   "outputs": [],
   "source": [
    "from tqdm.notebook import tnrange\n",
    "\n",
    "test_data = []\n",
    "for i in tnrange(len(X_test_reverb)):\n",
    "    x = extract_power_mag_spectrum(X_test_reverb[i], plot=False)[0].T\n",
    "    test_data.append(x)\n",
    "    \n",
    "test_data = np.asarray(test_data)"
   ]
  },
  {
   "cell_type": "code",
   "execution_count": null,
   "metadata": {},
   "outputs": [],
   "source": [
    "save_dir = Path('./FE_data')\n",
    "np.save(save_dir / \"STFT_test_reverb.npy\", test_data)"
   ]
  },
  {
   "cell_type": "code",
   "execution_count": null,
   "metadata": {},
   "outputs": [],
   "source": []
  }
 ],
 "metadata": {
  "kernelspec": {
   "display_name": "Python 3",
   "language": "python",
   "name": "python3"
  },
  "language_info": {
   "codemirror_mode": {
    "name": "ipython",
    "version": 3
   },
   "file_extension": ".py",
   "mimetype": "text/x-python",
   "name": "python",
   "nbconvert_exporter": "python",
   "pygments_lexer": "ipython3",
   "version": "3.7.9"
  }
 },
 "nbformat": 4,
 "nbformat_minor": 4
}
