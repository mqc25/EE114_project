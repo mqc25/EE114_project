{
 "cells": [
  {
   "cell_type": "markdown",
   "metadata": {},
   "source": [
    "# Load data in"
   ]
  },
  {
   "cell_type": "code",
   "execution_count": null,
   "metadata": {},
   "outputs": [],
   "source": [
    "import os\n",
    "from pathlib import Path\n",
    "\n",
    "current_dir = Path('./')\n",
    "data_dir = current_dir / 'speech_commands_v0.01'\n",
    "train_file_path = data_dir / \"train_digit_list.txt\"\n",
    "test_file_path = data_dir / \"testing_digit_list.txt\"\n",
    "\n",
    "train_file = open(train_file_path, \"r\")\n",
    "training_list = [data_dir / x for x in train_file.read().splitlines()]\n",
    "\n",
    "test_file = open(test_file_path, \"r\")\n",
    "testing_list = [data_dir / x for x in test_file.read().splitlines()]"
   ]
  },
  {
   "cell_type": "code",
   "execution_count": null,
   "metadata": {},
   "outputs": [],
   "source": [
    "import os\n",
    "from pathlib import Path\n",
    "import numpy as np\n",
    "\n",
    "with open('X_train_original.npy', 'rb') as f:\n",
    "    X_train_org = np.load(f)\n",
    "\n",
    "with open('X_train_reverb_random.npy', 'rb') as f:\n",
    "    X_train_reverb = np.load(f)\n",
    "    \n",
    "with open('X_test_reverb_random.npy', 'rb') as f:\n",
    "    X_test_reverb = np.load(f)"
   ]
  },
  {
   "cell_type": "code",
   "execution_count": null,
   "metadata": {},
   "outputs": [],
   "source": [
    "print(X_train_org[2])"
   ]
  },
  {
   "cell_type": "code",
   "execution_count": null,
   "metadata": {},
   "outputs": [],
   "source": [
    "import matplotlib.pyplot as plt\n",
    "\n",
    "sample_num = 25\n",
    "x = np.arange(0, 16000)\n",
    "\n",
    "fig, axs = plt.subplots(3)\n",
    "axs[0].plot(x, X_train_org[sample_num])\n",
    "axs[1].plot(x, X_train_reverb[sample_num])\n",
    "axs[2].plot(x, X_train_reverb_random[sample_num])\n",
    "plt.show()"
   ]
  },
  {
   "cell_type": "markdown",
   "metadata": {},
   "source": [
    "# Filter bank and Mel cooef"
   ]
  },
  {
   "cell_type": "code",
   "execution_count": null,
   "metadata": {},
   "outputs": [],
   "source": [
    "from scipy.fft import dct\n",
    "\n",
    "def emphaize(signal, plot=True):\n",
    "    pre_emphasis = 0.97\n",
    "    emphasized_signal = np.append(signal[0], signal[1:] - pre_emphasis * signal[:-1])\n",
    "    if plot:\n",
    "        x = np.arange(0, 1., 6.25e-5)\n",
    "        plt.plot(x, signal, label='original')\n",
    "        plt.plot(x, emphasized_signal, label='emphasized')\n",
    "        plt.legend()\n",
    "        plt.title('Emphasized signal')\n",
    "        plt.savefig('img/e_signal.png')\n",
    "        plt.show()\n",
    "\n",
    "\n",
    "    return emphasized_signal\n",
    "\n",
    "def framing(emphasized_signal, size, stride, sample_rate=16000):\n",
    "    #Framing\n",
    "    frame_length, frame_step = size * sample_rate, stride * sample_rate \n",
    "    signal_length = len(emphasized_signal)\n",
    "    frame_length = int(round(frame_length))\n",
    "    frame_step = int(round(frame_step))\n",
    "    num_frames = int(np.ceil(float(np.abs(signal_length - frame_length)) / frame_step)) \n",
    "\n",
    "    pad_signal_length = num_frames * frame_step + frame_length\n",
    "    z = np.zeros((pad_signal_length - signal_length))\n",
    "    pad_signal = np.append(emphasized_signal, z)\n",
    "\n",
    "    indices = np.tile(np.arange(0, frame_length), (num_frames, 1)) + np.tile(np.arange(0, num_frames * frame_step, frame_step), (frame_length, 1)).T\n",
    "    frames = pad_signal[indices.astype(np.int32, copy=False)]\n",
    "    \n",
    "    #Windowing\n",
    "    frames *= np.hamming(frame_length)\n",
    "    return frames\n",
    "\n",
    "def ftps(frames, NFFT = 512):\n",
    "    mag_frames = np.absolute(np.fft.rfft(frames, NFFT))  # Magnitude of the FFT\n",
    "    pow_frames = ((1.0 / NFFT) * ((mag_frames) ** 2))  # Power Spectrum\n",
    "    \n",
    "    plt.show()\n",
    "    \n",
    "    return mag_frames, pow_frames\n",
    "\n",
    "\n",
    "def filter_bank(pow_frames, sample_rate = 16000, NFFT = 512, nfilt=40):\n",
    "    low_freq_mel = 0\n",
    "    high_freq_mel = (2595 * np.log10(1 + (sample_rate / 2) / 700))  # Convert Hz to Mel\n",
    "    mel_points = np.linspace(low_freq_mel, high_freq_mel, nfilt + 2)  # Equally spaced in Mel scale\n",
    "    hz_points = (700 * (10**(mel_points / 2595) - 1))  # Convert Mel to Hz\n",
    "    bin = np.floor((NFFT + 1) * hz_points / sample_rate)\n",
    "\n",
    "    fbank = np.zeros((nfilt, int(np.floor(NFFT / 2 + 1))))\n",
    "    for m in range(1, nfilt + 1):\n",
    "        f_m_minus = int(bin[m - 1])   # left\n",
    "        f_m = int(bin[m])             # center\n",
    "        f_m_plus = int(bin[m + 1])    # right\n",
    "\n",
    "        for k in range(f_m_minus, f_m):\n",
    "            fbank[m - 1, k] = (k - bin[m - 1]) / (bin[m] - bin[m - 1])\n",
    "        for k in range(f_m, f_m_plus):\n",
    "            fbank[m - 1, k] = (bin[m + 1] - k) / (bin[m + 1] - bin[m])\n",
    "            \n",
    "    filter_banks = np.dot(pow_frames, fbank.T)\n",
    "    filter_banks = np.where(filter_banks == 0, np.finfo(float).eps, filter_banks)  # Numerical Stability\n",
    "    filter_banks = 20 * np.log10(filter_banks)  # dB\n",
    "    \n",
    "    filter_banks -= (np.mean(filter_banks, axis=0) + 1e-8)\n",
    "\n",
    "    return filter_banks\n",
    "\n",
    "def mfcc(filter_banks, num_ceps = 12, cep_lifter = 22):\n",
    "    mfcc = dct(filter_banks, type=2, axis=1, norm='ortho')[:, 1 : (num_ceps + 1)] \n",
    "    (nframes, ncoeff) = mfcc.shape\n",
    "    n = np.arange(ncoeff)\n",
    "    lift = 1 + (cep_lifter / 2) * np.sin(np.pi * n / cep_lifter)\n",
    "    mfcc *= lift  #*\n",
    "    \n",
    "    mfcc -= (np.mean(mfcc, axis=0) + 1e-8)\n",
    "\n",
    "    return mfcc\n",
    "\n",
    "def extract_filter_bank_mfcc(signal, plot=True):\n",
    "    e_signal = emphaize(signal, plot)\n",
    "    frames = framing(e_signal, 0.025, 0.01)\n",
    "    mag_frames, pow_frames = ftps(frames)\n",
    "    f_bank = filter_bank(pow_frames)\n",
    "    mel = mfcc(f_bank)\n",
    "    \n",
    "    if plot:\n",
    "        plt.imshow(f_bank.T, origin='lower')\n",
    "        plt.title('Filter bank')\n",
    "        plt.savefig('img/fb.png')\n",
    "        plt.show()\n",
    "\n",
    "        plt.imshow(mel.T, origin='lower')\n",
    "        plt.title('MFCC')\n",
    "        plt.savefig('img/mfcc.png')\n",
    "        plt.show()\n",
    "    \n",
    "    return np.concatenate((mel, f_bank), axis=1)\n",
    "\n"
   ]
  },
  {
   "cell_type": "code",
   "execution_count": null,
   "metadata": {},
   "outputs": [],
   "source": [
    "a = extract_filter_bank_mfcc(X_train_org[sample_num])\n",
    "plt.imshow(a.T)"
   ]
  },
  {
   "cell_type": "code",
   "execution_count": null,
   "metadata": {},
   "outputs": [],
   "source": [
    "extract_filter_bank_mfcc(X_train_reverb[sample_num])"
   ]
  },
  {
   "cell_type": "code",
   "execution_count": null,
   "metadata": {},
   "outputs": [],
   "source": [
    "extract_filter_bank_mfcc(X_train_org[sample_num])"
   ]
  },
  {
   "cell_type": "markdown",
   "metadata": {},
   "source": [
    "# Extract feature for all signal"
   ]
  },
  {
   "cell_type": "code",
   "execution_count": null,
   "metadata": {},
   "outputs": [],
   "source": [
    "from tqdm.notebook import tnrange\n",
    "\n",
    "train_data = []\n",
    "for i in tnrange(len(X_train_reverb)):\n",
    "    x = extract_filter_bank_mfcc(X_train_reverb[i], plot=False).T\n",
    "    train_data.append(x)\n",
    "    \n",
    "train_data = np.asarray(train_data)"
   ]
  },
  {
   "cell_type": "code",
   "execution_count": null,
   "metadata": {},
   "outputs": [],
   "source": [
    "save_dir = Path('./FE_data')\n",
    "np.save(save_dir / \"MFCC_train_reverb.npy\", train_data)"
   ]
  },
  {
   "cell_type": "code",
   "execution_count": null,
   "metadata": {},
   "outputs": [],
   "source": [
    "test_data = []\n",
    "for i in tnrange(len(X_test_reverb)):\n",
    "    x = extract_filter_bank_mfcc(X_test_reverb[i], plot=False).T\n",
    "    test_data.append(x)\n",
    "    \n",
    "test_data = np.asarray(test_data)"
   ]
  },
  {
   "cell_type": "code",
   "execution_count": null,
   "metadata": {},
   "outputs": [],
   "source": [
    "save_dir = Path('./FE_data')\n",
    "np.save(save_dir / \"MFCC_test_reverb.npy\", test_data)"
   ]
  },
  {
   "cell_type": "code",
   "execution_count": null,
   "metadata": {},
   "outputs": [],
   "source": []
  }
 ],
 "metadata": {
  "kernelspec": {
   "display_name": "Python 3",
   "language": "python",
   "name": "python3"
  },
  "language_info": {
   "codemirror_mode": {
    "name": "ipython",
    "version": 3
   },
   "file_extension": ".py",
   "mimetype": "text/x-python",
   "name": "python",
   "nbconvert_exporter": "python",
   "pygments_lexer": "ipython3",
   "version": "3.7.9"
  }
 },
 "nbformat": 4,
 "nbformat_minor": 4
}
